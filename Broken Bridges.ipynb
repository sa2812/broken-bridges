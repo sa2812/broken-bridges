{
 "cells": [
  {
   "cell_type": "markdown",
   "metadata": {},
   "source": [
    "# Broken Bridges\n",
    "\n",
    "<img src=\"https://ds055uzetaobb.cloudfront.net/image_optimizer/042aa97d7b26fa0ebdd1dcc5064655aa95c52f57.jpg\" alt=\"Image Credit: http://hdscreen.me/wallpaper/2645876-bridges-fantasy-art-landscapes-mountains\" width=\"300px\"/>\n",
    "\n",
    "John lives in the Trees of Ten Houses, and it is a most ideal and idyllic place for him and the other dwellers up in the canopy. They have invested a tremendous amount of time in engineering these houses, and to ensure no house felt isolated from the others, they built a fresh, finely crafted bridge between each and every house!\n",
    "Unfortunately, the Trees of Ten Houses were not immune to thunderstorms, nor were the bridges well engineered. The night was treacherous, howling with wind and freezing with rain, so the odds for the bridges were not good--each bridge seemed just as likely to survive as to be shattered!\n",
    "\n",
    "Fortunately, as there were so very many bridges in the Trees of Ten Houses, when John did wake the following morning, he found he was able to make his way to each and every house using only the existing bridges, though round-about routes may have been necessary. As they began rebuilding, John became curious... what were the chances that they'd all be so lucky?\n",
    "\n",
    "More formally, if $P$ is the probability that, after the storm, John is able to traverse to each and every house, what is $\\lfloor 10^{10} P \\rfloor$?\n",
    "\n",
    "**Details and Assumptions:**\n",
    "* The Trees of Ten Houses do, in fact, contain precisely 10 houses.\n",
    "* Before the storm, there exists a single bridge between each and every unique pair of houses.\n",
    "* The storm destroys each bridge with independent probability $\\frac{1}{2}$.\n",
    "* John is allowed to traverse through others' houses to try to reach all of them, but he must only use the surviving bridges to get there. No vine swinging allowed."
   ]
  },
  {
   "cell_type": "code",
   "execution_count": null,
   "metadata": {},
   "outputs": [],
   "source": []
  }
 ],
 "metadata": {
  "kernelspec": {
   "display_name": "Python 3",
   "language": "python",
   "name": "python3"
  },
  "language_info": {
   "codemirror_mode": {
    "name": "ipython",
    "version": 3
   },
   "file_extension": ".py",
   "mimetype": "text/x-python",
   "name": "python",
   "nbconvert_exporter": "python",
   "pygments_lexer": "ipython3",
   "version": "3.6.5"
  }
 },
 "nbformat": 4,
 "nbformat_minor": 2
}
